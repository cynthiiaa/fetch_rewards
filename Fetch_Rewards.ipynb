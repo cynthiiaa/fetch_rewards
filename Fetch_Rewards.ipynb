{
 "cells": [
  {
   "cell_type": "markdown",
   "id": "53625b8a",
   "metadata": {},
   "source": [
    "## Necessary imports"
   ]
  },
  {
   "cell_type": "code",
   "execution_count": 1,
   "id": "55e62325",
   "metadata": {},
   "outputs": [],
   "source": [
    "import gzip\n",
    "import json\n",
    "import shutil\n",
    "import pandas as pd\n",
    "from datetime import datetime"
   ]
  },
  {
   "cell_type": "markdown",
   "id": "0727aea3",
   "metadata": {},
   "source": [
    "## Create Dataframes for Each Table"
   ]
  },
  {
   "cell_type": "code",
   "execution_count": 2,
   "id": "2eed33e6",
   "metadata": {
    "scrolled": true
   },
   "outputs": [],
   "source": [
    "receipts = pd.read_json('receipts.json', lines=True)\n",
    "brands = pd.read_json('brands.json', lines=True)\n",
    "\n",
    "# the JSON file for users wasn't cooperating \n",
    "with gzip.open('users.json.gz', 'rb') as file_in:\n",
    "          with open('users.json.gz'.replace('.gz',''), 'wb') as file_out:\n",
    "            shutil.copyfileobj(file_in, file_out)\n",
    "\n",
    "users = pd.read_json('users.json', lines=True)"
   ]
  },
  {
   "cell_type": "markdown",
   "id": "0c93993f",
   "metadata": {},
   "source": [
    "## Parse data for ID column in Brands Table"
   ]
  },
  {
   "cell_type": "code",
   "execution_count": 3,
   "id": "d19e8435",
   "metadata": {},
   "outputs": [],
   "source": [
    "# create empty dataframe\n",
    "cpgDF = pd.DataFrame(columns=['$ref'])\n",
    "\n",
    "for index,row in brands.iterrows():\n",
    "    if isinstance(row['_id'], dict) and len(row['_id']) == 1:\n",
    "        brands.loc[index, \"_id\"] = row['_id']['$oid']\n",
    "    if isinstance(row['cpg'], dict) and len(row['cpg']) != 0:\n",
    "        cpgDF = cpgDF.append(row['cpg'], ignore_index=True)\n",
    "        \n",
    "\n",
    "# parse cpgDF further\n",
    "for index,row in cpgDF.iterrows():\n",
    "    if isinstance(row['$id'], dict) and len(row['$id']) == 1:\n",
    "        cpgDF.loc[index, \"$id\"] = row['$id']['$oid']\n",
    "\n",
    "# combine cpgDF and Brands table together using an outer join\n",
    "brands = brands.join(cpgDF,how='outer', lsuffix='left', rsuffix='right')\n",
    "\n",
    "# drop cpg column\n",
    "brands.drop('cpg', axis=1, inplace=True)"
   ]
  },
  {
   "cell_type": "markdown",
   "id": "55a731bf",
   "metadata": {},
   "source": [
    "## Parse data for nested JSONs in Users Table"
   ]
  },
  {
   "cell_type": "code",
   "execution_count": 4,
   "id": "dbe7ff02",
   "metadata": {},
   "outputs": [],
   "source": [
    "for index,row in users.iterrows():\n",
    "    if isinstance(row['_id'], dict) and len(row['_id']) == 1:\n",
    "        users.loc[index, \"_id\"] = row['_id']['$oid']\n",
    "    if isinstance(row['createdDate'], dict) and len(row['createdDate']) == 1:\n",
    "        users.loc[index, \"createdDate\"] = row['createdDate']['$date']\n",
    "    if isinstance(row['lastLogin'], dict) and len(row['lastLogin']) == 1:\n",
    "        users.loc[index, \"lastLogin\"] = row['lastLogin']['$date']\n"
   ]
  },
  {
   "cell_type": "markdown",
   "id": "f4b77327",
   "metadata": {},
   "source": [
    "## Parse Data for Nested JSONs in Receipts Table\n",
    "## Create a new dataframe for rewardsReceiptItemList and join it with Receipts table"
   ]
  },
  {
   "cell_type": "code",
   "execution_count": 5,
   "id": "13a75b1d",
   "metadata": {
    "scrolled": true
   },
   "outputs": [],
   "source": [
    "# create empty dataframe\n",
    "rewardsReceiptDF = pd.DataFrame(columns=['barcode'])\n",
    "\n",
    "# iterate through receipts dataframe and remove nested jsons\n",
    "for index,row in receipts.iterrows():\n",
    "    if isinstance(row['_id'], dict) and len(row['_id']) == 1:\n",
    "        receipts.loc[index, \"_id\"] = row['_id']['$oid']\n",
    "    if isinstance(row['createDate'], dict) and len(row['createDate']) == 1:\n",
    "        receipts.loc[index, \"createDate\"] = row['createDate']['$date']\n",
    "    if isinstance(row['dateScanned'], dict) and len(row['dateScanned']) == 1:\n",
    "        receipts.loc[index, \"dateScanned\"] = row['dateScanned']['$date']\n",
    "    if isinstance(row['finishedDate'], dict) and len(row['finishedDate']) == 1:\n",
    "        receipts.loc[index, \"finishedDate\"] = row['finishedDate']['$date']\n",
    "    if isinstance(row['modifyDate'], dict) and len(row['modifyDate']) == 1:\n",
    "        receipts.loc[index, \"modifyDate\"] = row['modifyDate']['$date']\n",
    "    if isinstance(row['pointsAwardedDate'], dict) and len(row['pointsAwardedDate']) == 1:\n",
    "        receipts.loc[index, \"pointsAwardedDate\"] = row['pointsAwardedDate']['$date']\n",
    "    if isinstance(row['purchaseDate'], dict) and len(row['purchaseDate']) == 1:\n",
    "        receipts.loc[index, \"purchaseDate\"] = row['purchaseDate']['$date']\n",
    "    if isinstance(row['rewardsReceiptItemList'], list) and len(row['rewardsReceiptItemList']) != 0:\n",
    "        # create a temp dictionary \n",
    "        temp_dict = {k:v for e in row['rewardsReceiptItemList'] for k,v in e.items()}\n",
    "        rewardsReceiptDF = rewardsReceiptDF.append(temp_dict, ignore_index=True)\n",
    "\n",
    "# combine the dataframes using an outer join\n",
    "receipts = receipts.join(rewardsReceiptDF,how='outer', lsuffix='left', rsuffix='right')\n",
    "\n",
    "# drop rewardsReceiptItemList column\n",
    "receipts.drop('rewardsReceiptItemList', axis=1, inplace=True)"
   ]
  },
  {
   "cell_type": "markdown",
   "id": "c08fcd05",
   "metadata": {},
   "source": [
    "## Transform the dates to be readable"
   ]
  },
  {
   "cell_type": "code",
   "execution_count": 6,
   "id": "cdd6a007",
   "metadata": {},
   "outputs": [],
   "source": [
    "def transform_date(timestamp):\n",
    "    try:\n",
    "        # timestamp is in milliseconds, diving by 1000 will convert to seconds\n",
    "        # I'm using local time, but can convert to UTC as well \n",
    "        return datetime.fromtimestamp(timestamp/1000)\n",
    "    except:\n",
    "        return None"
   ]
  },
  {
   "cell_type": "markdown",
   "id": "c192da29",
   "metadata": {},
   "source": [
    "## Update Users and Receipts DataFrames"
   ]
  },
  {
   "cell_type": "code",
   "execution_count": 7,
   "id": "f7414f02",
   "metadata": {},
   "outputs": [],
   "source": [
    "users['createdDate'] = users['createdDate'].apply(lambda time: transform_date(time))\n",
    "users['lastLogin'] = users['lastLogin'].apply(lambda time: transform_date(time))\n",
    "\n",
    "for col in receipts.columns:\n",
    "    if 'date' in col.lower():\n",
    "        receipts[col] = receipts[col].apply(lambda time: transform_date(time))"
   ]
  },
  {
   "cell_type": "markdown",
   "id": "54094ffb",
   "metadata": {},
   "source": [
    "## Create Tables in MySQL "
   ]
  },
  {
   "cell_type": "code",
   "execution_count": 8,
   "id": "27b19f98",
   "metadata": {},
   "outputs": [],
   "source": [
    "from sqlalchemy import create_engine\n",
    "\n",
    "with open('/Users/cynthia/Desktop/password.txt','r') as file:\n",
    "    password = file.readline()\n",
    "\n",
    "hostname='127.0.0.1'\n",
    "dbname='sys'\n",
    "uname='root'\n",
    "pwd=password\n",
    "\n",
    "engine = create_engine(f\"mysql+pymysql://{uname}:{pwd}@{hostname}/{dbname}\")"
   ]
  },
  {
   "cell_type": "code",
   "execution_count": 9,
   "id": "feab7ac3",
   "metadata": {},
   "outputs": [],
   "source": [
    "receipts.to_sql('Receipts', engine, if_exists='replace', index=False)\n",
    "users.to_sql('Users', engine, if_exists='replace', index=False)\n",
    "brands.to_sql('Brands', engine, if_exists='replace', index=False)"
   ]
  },
  {
   "cell_type": "markdown",
   "id": "fc27e467",
   "metadata": {},
   "source": [
    "## Execute Queries"
   ]
  },
  {
   "cell_type": "code",
   "execution_count": 10,
   "id": "c3822c4c",
   "metadata": {},
   "outputs": [],
   "source": [
    "import mysql.connector\n",
    "\n",
    "config = {\n",
    "  'user':uname,\n",
    "  'password':pwd,\n",
    "  'host':hostname,\n",
    "  'database':dbname,\n",
    "  'raise_on_warnings': True\n",
    "}\n",
    "\n",
    "try:\n",
    "    cnx = mysql.connector.connect(**config)\n",
    "except Error as e:\n",
    "    print(e)"
   ]
  },
  {
   "cell_type": "markdown",
   "id": "6d420f1c",
   "metadata": {},
   "source": [
    "## When considering average spend from receipts with 'rewardsReceiptStatus’ of ‘Accepted’ or ‘Rejected’, which is greater?\n",
    "\n",
    "I'll assume that Finished and Accepted are interchangeable. \n",
    "\n",
    "Average spend from receipts with 'rewardsReceiptStatus' of accepted is greater than receipts with 'rewardsReceiptStatus' of rejected."
   ]
  },
  {
   "cell_type": "code",
   "execution_count": 11,
   "id": "352d9eed",
   "metadata": {},
   "outputs": [
    {
     "name": "stdout",
     "output_type": "stream",
     "text": [
      "('FINISHED', 80.85430501930502)\n",
      "('REJECTED', 23.326056338028184)\n",
      "('FLAGGED', 180.4517391304348)\n",
      "('SUBMITTED', None)\n",
      "('PENDING', 28.03244897959184)\n"
     ]
    }
   ],
   "source": [
    "query1 = \"\"\"\n",
    "SELECT r.rewardsReceiptStatus, avg(r.totalSpent)\n",
    "FROM receipts r\n",
    "GROUP BY r.rewardsReceiptStatus;\n",
    "\"\"\"\n",
    "\n",
    "with cnx.cursor() as cursor:\n",
    "    cursor.execute(query1)\n",
    "    for item in cursor.fetchall():\n",
    "        print(item)"
   ]
  },
  {
   "cell_type": "markdown",
   "id": "0879e8a0",
   "metadata": {},
   "source": [
    "## When considering total number of items purchased from receipts with 'rewardsReceiptStatus’ of ‘Accepted’ or ‘Rejected’, which is greater?\n",
    "\n",
    "Assuming accepted is synonymous with finished, receipts with 'rewardsReceiptStatus’ of accepted had more purchases than receipts with 'rewardsReceiptStatus’ of rejected."
   ]
  },
  {
   "cell_type": "code",
   "execution_count": 12,
   "id": "7e31c63b",
   "metadata": {},
   "outputs": [
    {
     "name": "stdout",
     "output_type": "stream",
     "text": [
      "('FINISHED', 8184.0)\n",
      "('REJECTED', 173.0)\n",
      "('FLAGGED', 1014.0)\n",
      "('SUBMITTED', None)\n",
      "('PENDING', None)\n"
     ]
    }
   ],
   "source": [
    "query2 = \"\"\"\n",
    "SELECT r.rewardsReceiptStatus, sum(r.purchasedItemCount)\n",
    "FROM receipts r\n",
    "GROUP BY r.rewardsReceiptStatus;\n",
    "\"\"\"\n",
    "\n",
    "with cnx.cursor() as cursor:\n",
    "    cursor.execute(query2)\n",
    "    for item in cursor.fetchall():\n",
    "        print(item)"
   ]
  },
  {
   "cell_type": "markdown",
   "id": "3c284abe",
   "metadata": {},
   "source": [
    "### Questions 5 and 6 couldn't be queried, 6 months ago from the day I'm writing this script was: April 14th however, the most recently created user was created on Feb 12th (a little over 8 months ago)"
   ]
  },
  {
   "cell_type": "code",
   "execution_count": 13,
   "id": "116615de",
   "metadata": {},
   "outputs": [
    {
     "name": "stdout",
     "output_type": "stream",
     "text": [
      "(datetime.datetime(2021, 2, 12, 8, 11, 6),)\n",
      "(datetime.datetime(2021, 2, 12, 8, 10, 49),)\n",
      "(datetime.datetime(2021, 2, 11, 10, 17, 54),)\n",
      "(datetime.datetime(2021, 2, 11, 10, 17, 50),)\n",
      "(datetime.datetime(2021, 2, 11, 10, 17, 8),)\n",
      "(datetime.datetime(2021, 2, 11, 8, 1, 17),)\n",
      "(datetime.datetime(2021, 2, 11, 8, 0, 47),)\n",
      "(datetime.datetime(2021, 2, 10, 13, 53, 2),)\n",
      "(datetime.datetime(2021, 2, 9, 8, 17, 53),)\n",
      "(datetime.datetime(2021, 2, 9, 8, 17, 53),)\n"
     ]
    }
   ],
   "source": [
    "query3 = \"\"\"\n",
    "SELECT createdDate from users\n",
    "ORDER BY createdDate desc\n",
    "LIMIT 10;\n",
    "\"\"\"\n",
    "\n",
    "with cnx.cursor() as cursor:\n",
    "    cursor.execute(query3)\n",
    "    for item in cursor.fetchall():\n",
    "        print(item)"
   ]
  },
  {
   "cell_type": "code",
   "execution_count": 14,
   "id": "34d41fda",
   "metadata": {},
   "outputs": [],
   "source": [
    "# close connection\n",
    "cnx.close()"
   ]
  }
 ],
 "metadata": {
  "kernelspec": {
   "display_name": "Python 3",
   "language": "python",
   "name": "python3"
  },
  "language_info": {
   "codemirror_mode": {
    "name": "ipython",
    "version": 3
   },
   "file_extension": ".py",
   "mimetype": "text/x-python",
   "name": "python",
   "nbconvert_exporter": "python",
   "pygments_lexer": "ipython3",
   "version": "3.8.11"
  }
 },
 "nbformat": 4,
 "nbformat_minor": 5
}
